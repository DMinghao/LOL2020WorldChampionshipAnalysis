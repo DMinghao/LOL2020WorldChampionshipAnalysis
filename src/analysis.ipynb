{
 "metadata": {
  "language_info": {
   "codemirror_mode": {
    "name": "ipython",
    "version": 3
   },
   "file_extension": ".py",
   "mimetype": "text/x-python",
   "name": "python",
   "nbconvert_exporter": "python",
   "pygments_lexer": "ipython3",
   "version": "3.8.5-final"
  },
  "orig_nbformat": 2,
  "kernelspec": {
   "name": "python38564bite4ca90cc203d4c56a5d8a0fe8e665971",
   "display_name": "Python 3.8.5 64-bit"
  }
 },
 "nbformat": 4,
 "nbformat_minor": 2,
 "cells": [
  {
   "cell_type": "code",
   "execution_count": 1,
   "metadata": {
    "tags": []
   },
   "outputs": [
    {
     "output_type": "execute_result",
     "data": {
      "text/plain": "&#39;league-of-legends-world-championship-2020&#39;"
     },
     "metadata": {},
     "execution_count": 1
    }
   ],
   "source": [
    "import requests\n",
    "import json\n",
    "import configparser\n",
    "\n",
    "config = configparser.ConfigParser()\n",
    "config.read('config.ini')\n",
    "KEY = config['API-KEY']['KEY']\n",
    "ROOT = 'https://api.pandascore.co'\n",
    "\n",
    "resp = requests.get(f'{ROOT}/lol/series/running?token={KEY}')\n",
    "series = resp.json()\n",
    "\n",
    "current = series[1]\n",
    "slug = current['slug']\n",
    "slug"
   ]
  },
  {
   "cell_type": "code",
   "execution_count": 2,
   "metadata": {},
   "outputs": [],
   "source": [
    "resp = requests.get(f'{ROOT}/lol/series/{slug}/teams?token={KEY}')\n",
    "teams = resp.json()\n",
    "# teams[0]"
   ]
  },
  {
   "cell_type": "code",
   "execution_count": 3,
   "metadata": {
    "tags": []
   },
   "outputs": [
    {
     "output_type": "stream",
     "name": "stdout",
     "text": "126702\n126536\n126370\n126059\n3983\n2882\n1635\n1453\n1356\n652\n416\n408\n394\n390\n387\n318\n311\n202\n181\n158\n88\n19\n"
    }
   ],
   "source": [
    "TeamList = []\n",
    "for x in teams:\n",
    "     TeamList.append({\n",
    "         'id':x['id'],\n",
    "         'name':x['name'], \n",
    "         'acronym':x['acronym'],\n",
    "         'slug':x['slug']\n",
    "     })\n",
    "for x in TeamList:\n",
    "    print(x['id'])"
   ]
  },
  {
   "cell_type": "code",
   "execution_count": 4,
   "metadata": {
    "tags": []
   },
   "outputs": [
    {
     "output_type": "stream",
     "name": "stdout",
     "text": "403\n403\n403\n403\n403\n403\n403\n403\n403\n403\n403\n403\n403\n403\n403\n403\n403\n403\n403\n403\n403\n403\n"
    }
   ],
   "source": [
    "for x in TeamList: \n",
    "    i = x['slug']\n",
    "    resp = requests.get(f'{ROOT}/lol/teams/{i}/stats?from=2020-01-01&token={KEY}')\n",
    "    stats = resp.json()\n",
    "    print(resp.status_code)\n",
    "    # x['stats']=stats\n",
    "# TeamList"
   ]
  },
  {
   "cell_type": "code",
   "execution_count": null,
   "metadata": {},
   "outputs": [],
   "source": []
  }
 ]
}